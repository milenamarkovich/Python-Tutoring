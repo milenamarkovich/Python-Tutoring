{
 "cells": [
  {
   "cell_type": "markdown",
   "id": "3a32cea2",
   "metadata": {},
   "source": [
    "## Introduction to Python - Sept. 23, 2025"
   ]
  },
  {
   "cell_type": "markdown",
   "id": "677bf5d6",
   "metadata": {},
   "source": [
    "### Let's jump straight in to a couple of excersises!"
   ]
  },
  {
   "cell_type": "markdown",
   "id": "c8f37d7c",
   "metadata": {},
   "source": [
    "### 1. Calculator"
   ]
  },
  {
   "cell_type": "markdown",
   "id": "2450b515",
   "metadata": {},
   "source": [
    "Create a program which acts as a calculator to perform basic operations: addition, subtraction, multiplication and division. Hint: You may want to create a separate function definition for each operation type!"
   ]
  },
  {
   "cell_type": "code",
   "execution_count": 35,
   "id": "bbc9a4f5",
   "metadata": {},
   "outputs": [],
   "source": [
    "# Your code here!"
   ]
  },
  {
   "cell_type": "code",
   "execution_count": 36,
   "id": "8bedc6e9",
   "metadata": {},
   "outputs": [],
   "source": [
    "# We can write a test script to check our functions here!"
   ]
  },
  {
   "cell_type": "markdown",
   "id": "c7b85ef9",
   "metadata": {},
   "source": [
    "### 2. Print Even Elements"
   ]
  },
  {
   "cell_type": "markdown",
   "id": "4a4f64af",
   "metadata": {},
   "source": [
    "Given a string, print only the elements at even index points. For example, if our string is \"Python Tutoring!\" the expected output would be \"Pto uoig\". Hint: Remember that Python array indexing starts at 0!"
   ]
  },
  {
   "cell_type": "code",
   "execution_count": 37,
   "id": "2b26e88f",
   "metadata": {},
   "outputs": [],
   "source": [
    "# Your code here!"
   ]
  },
  {
   "cell_type": "code",
   "execution_count": 38,
   "id": "0345b141",
   "metadata": {},
   "outputs": [],
   "source": [
    "# Test script here!"
   ]
  },
  {
   "cell_type": "markdown",
   "id": "958c8cf6",
   "metadata": {},
   "source": [
    "### 3. Check First and Last Numbers of List"
   ]
  },
  {
   "cell_type": "markdown",
   "id": "4c105e20",
   "metadata": {},
   "source": [
    "Write a function which, an array of numbers, checks if the first and last numbers in the array are the same."
   ]
  },
  {
   "cell_type": "code",
   "execution_count": 39,
   "id": "80fde5bf",
   "metadata": {},
   "outputs": [],
   "source": [
    "# Your code here!"
   ]
  },
  {
   "cell_type": "code",
   "execution_count": 40,
   "id": "56f829eb",
   "metadata": {},
   "outputs": [],
   "source": [
    "# Test script here!"
   ]
  },
  {
   "cell_type": "markdown",
   "id": "02600186",
   "metadata": {},
   "source": [
    "### 4. Remove Element from Array"
   ]
  },
  {
   "cell_type": "markdown",
   "id": "a730f13c",
   "metadata": {},
   "source": [
    "Given an integer array \"nums\" and an integer \"val\", remove all occurrences of val in nums in-place. Then return the number of elements in nums which are not equal to val."
   ]
  },
  {
   "cell_type": "code",
   "execution_count": 41,
   "id": "e59655cf",
   "metadata": {},
   "outputs": [],
   "source": [
    "def removeElement(nums, val):\n",
    "        \"\"\"\n",
    "        :type nums: List[int]\n",
    "        :type val: int\n",
    "        :rtype: int\n",
    "        \"\"\"\n",
    "        \"\"\" Place your code below! \"\"\"\n",
    "        "
   ]
  },
  {
   "cell_type": "code",
   "execution_count": 42,
   "id": "19621178",
   "metadata": {},
   "outputs": [],
   "source": [
    "\"\"\" This code block helps test our script above! \"\"\"\n",
    "\n",
    "removeElement([3,2,2,3], 3)\n",
    "removeElement([0,1,2,2,3,0,4,2], 2)"
   ]
  }
 ],
 "metadata": {
  "kernelspec": {
   "display_name": "Python 3",
   "language": "python",
   "name": "python3"
  },
  "language_info": {
   "codemirror_mode": {
    "name": "ipython",
    "version": 3
   },
   "file_extension": ".py",
   "mimetype": "text/x-python",
   "name": "python",
   "nbconvert_exporter": "python",
   "pygments_lexer": "ipython3",
   "version": "3.12.8"
  }
 },
 "nbformat": 4,
 "nbformat_minor": 5
}
