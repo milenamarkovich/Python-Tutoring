{
 "cells": [
  {
   "cell_type": "markdown",
   "id": "3a32cea2",
   "metadata": {},
   "source": [
    "## Introduction to Python"
   ]
  },
  {
   "cell_type": "markdown",
   "id": "52af39ee",
   "metadata": {},
   "source": [
    "### Let's start with a recap of Python fundamentals:"
   ]
  },
  {
   "cell_type": "markdown",
   "id": "b4a53928",
   "metadata": {},
   "source": [
    "### 1. Hello World!"
   ]
  },
  {
   "cell_type": "markdown",
   "id": "eb267ba7",
   "metadata": {},
   "source": [
    "Write a script that will print the words \"Hello World!\""
   ]
  },
  {
   "cell_type": "code",
   "execution_count": 9,
   "id": "83507aa0",
   "metadata": {},
   "outputs": [
    {
     "data": {
      "text/plain": [
       "' Place your code below! '"
      ]
     },
     "execution_count": 9,
     "metadata": {},
     "output_type": "execute_result"
    }
   ],
   "source": [
    "\"\"\" Place your code below! \"\"\""
   ]
  },
  {
   "cell_type": "markdown",
   "id": "90747592",
   "metadata": {},
   "source": [
    "### 2. Working with integers"
   ]
  },
  {
   "cell_type": "markdown",
   "id": "6feee24b",
   "metadata": {},
   "source": [
    "Write a script which executes the following:\n",
    "- Set variable \"a\" equal to (1 + 2)\n",
    "- Set variable \"b\" equal to (3 - 1)\n",
    "- Set variable \"c\" equal to (2 * 3)\n",
    "- Set variable \"d\" equal to (5 / 2)\n",
    "- Set variable \"e\" equal to (5 // 2)\n",
    "\n",
    "Check the output of all of these variable via the print() function. What do you notice about the difference between variables \"d\" and \"e\"?"
   ]
  },
  {
   "cell_type": "code",
   "execution_count": 10,
   "id": "c3777274",
   "metadata": {},
   "outputs": [
    {
     "data": {
      "text/plain": [
       "' Place your code below! '"
      ]
     },
     "execution_count": 10,
     "metadata": {},
     "output_type": "execute_result"
    }
   ],
   "source": [
    "\"\"\" Place your code below! \"\"\""
   ]
  },
  {
   "cell_type": "markdown",
   "id": "44afc09f",
   "metadata": {},
   "source": [
    "### 3. Control Logic"
   ]
  },
  {
   "cell_type": "markdown",
   "id": "6a25528e",
   "metadata": {},
   "source": [
    "Given a number (integer), evaluate whether the number is even or odd. Print the corresponding identifier (i.e. \"even\" or \"odd\")"
   ]
  },
  {
   "cell_type": "code",
   "execution_count": 11,
   "id": "05af5301",
   "metadata": {},
   "outputs": [],
   "source": [
    "def is_even(num):\n",
    "    \"\"\" Place your code below! \"\"\"    "
   ]
  },
  {
   "cell_type": "code",
   "execution_count": 12,
   "id": "7daf0f47",
   "metadata": {},
   "outputs": [],
   "source": [
    "\"\"\" This code block helps test our script above! \"\"\"\n",
    "is_even(4)\n",
    "is_even(7)\n",
    "is_even(0)"
   ]
  },
  {
   "cell_type": "markdown",
   "id": "4615374b",
   "metadata": {},
   "source": [
    "### 4. Loops"
   ]
  },
  {
   "cell_type": "markdown",
   "id": "4c433ad5",
   "metadata": {},
   "source": [
    "Print every item in this grocery list:\n",
    "- apples\n",
    "- oranges\n",
    "- bananas\n",
    "- bread"
   ]
  },
  {
   "cell_type": "code",
   "execution_count": 13,
   "id": "0d998cab",
   "metadata": {},
   "outputs": [
    {
     "data": {
      "text/plain": [
       "' Place your code below! '"
      ]
     },
     "execution_count": 13,
     "metadata": {},
     "output_type": "execute_result"
    }
   ],
   "source": [
    "grocery_list = [\"apples\", \"oranges\", \"bananas\", \"bread\"]\n",
    "\n",
    "\"\"\" Place your code below! \"\"\"\n"
   ]
  },
  {
   "cell_type": "markdown",
   "id": "6b5c99fc",
   "metadata": {},
   "source": [
    "Print every letter in the word \"bananas\""
   ]
  },
  {
   "cell_type": "code",
   "execution_count": 14,
   "id": "eb6fbced",
   "metadata": {},
   "outputs": [
    {
     "data": {
      "text/plain": [
       "' Place your code below! '"
      ]
     },
     "execution_count": 14,
     "metadata": {},
     "output_type": "execute_result"
    }
   ],
   "source": [
    "\"\"\" Place your code below! \"\"\"\n"
   ]
  },
  {
   "cell_type": "markdown",
   "id": "9f8afc42",
   "metadata": {},
   "source": [
    "### 5. Functions"
   ]
  },
  {
   "cell_type": "markdown",
   "id": "4d4beeab",
   "metadata": {},
   "source": [
    "Define a function which says \"Hello from my function!\""
   ]
  },
  {
   "cell_type": "code",
   "execution_count": 15,
   "id": "88279180",
   "metadata": {},
   "outputs": [
    {
     "data": {
      "text/plain": [
       "' Place your code below! '"
      ]
     },
     "execution_count": 15,
     "metadata": {},
     "output_type": "execute_result"
    }
   ],
   "source": [
    "\"\"\" Place your code below! \"\"\"\n"
   ]
  },
  {
   "cell_type": "code",
   "execution_count": 16,
   "id": "bcdfce90",
   "metadata": {},
   "outputs": [
    {
     "ename": "NameError",
     "evalue": "name 'my_function' is not defined",
     "output_type": "error",
     "traceback": [
      "\u001b[0;31m---------------------------------------------------------------------------\u001b[0m",
      "\u001b[0;31mNameError\u001b[0m                                 Traceback (most recent call last)",
      "Cell \u001b[0;32mIn[16], line 3\u001b[0m\n\u001b[1;32m      1\u001b[0m \u001b[38;5;124;03m\"\"\" This code block helps test our script above! \"\"\"\u001b[39;00m\n\u001b[0;32m----> 3\u001b[0m \u001b[43mmy_function\u001b[49m()\n",
      "\u001b[0;31mNameError\u001b[0m: name 'my_function' is not defined"
     ]
    }
   ],
   "source": [
    "\"\"\" This code block helps test our script above! \"\"\"\n",
    "\n",
    "my_function()"
   ]
  },
  {
   "cell_type": "markdown",
   "id": "7cd5b083",
   "metadata": {},
   "source": [
    "Define a function which adds up two numbers"
   ]
  },
  {
   "cell_type": "code",
   "execution_count": null,
   "id": "fe229cec",
   "metadata": {},
   "outputs": [],
   "source": [
    "\"\"\" Place your code below! \"\"\"\n"
   ]
  },
  {
   "cell_type": "code",
   "execution_count": null,
   "id": "78ff74c2",
   "metadata": {},
   "outputs": [
    {
     "name": "stdout",
     "output_type": "stream",
     "text": [
      "8\n",
      "30\n",
      "0\n"
     ]
    }
   ],
   "source": [
    "\"\"\" This code block helps test our script above! \"\"\"\n",
    "\n",
    "sum_1 = sum_two_numbers(3, 5)\n",
    "sum_2 = sum_two_numbers(10, 20)\n",
    "sum_3 = sum_two_numbers(-1, 1)\n",
    "\n",
    "print(sum_1)\n",
    "print(sum_2)\n",
    "print(sum_3)"
   ]
  },
  {
   "cell_type": "markdown",
   "id": "677bf5d6",
   "metadata": {},
   "source": [
    "### Great! Let's move on to some excersises"
   ]
  },
  {
   "cell_type": "markdown",
   "id": "02600186",
   "metadata": {},
   "source": [
    "### 1. Remove Element from Array"
   ]
  },
  {
   "cell_type": "markdown",
   "id": "a730f13c",
   "metadata": {},
   "source": [
    "Given an integer array \"nums\" and an integer \"val\", remove all occurrences of val in nums in-place. Then return the number of elements in nums which are not equal to val."
   ]
  },
  {
   "cell_type": "code",
   "execution_count": null,
   "id": "e59655cf",
   "metadata": {},
   "outputs": [],
   "source": [
    "def removeElement(nums, val):\n",
    "        \"\"\"\n",
    "        :type nums: List[int]\n",
    "        :type val: int\n",
    "        :rtype: int\n",
    "        \"\"\"\n",
    "        \"\"\" Place your code below! \"\"\"\n"
   ]
  },
  {
   "cell_type": "code",
   "execution_count": null,
   "id": "19621178",
   "metadata": {},
   "outputs": [
    {
     "name": "stdout",
     "output_type": "stream",
     "text": [
      "[2, 2]\n",
      "[0, 1, 3, 0, 4]\n"
     ]
    },
    {
     "data": {
      "text/plain": [
       "5"
      ]
     },
     "execution_count": 12,
     "metadata": {},
     "output_type": "execute_result"
    }
   ],
   "source": [
    "\"\"\" This code block helps test our script above! \"\"\"\n",
    "\n",
    "removeElement([3,2,2,3], 3)\n",
    "removeElement([0,1,2,2,3,0,4,2], 2)"
   ]
  },
  {
   "cell_type": "markdown",
   "id": "6b09f71a",
   "metadata": {},
   "source": [
    "### 2. Two Sum"
   ]
  },
  {
   "cell_type": "markdown",
   "id": "cdd951bb",
   "metadata": {},
   "source": [
    "Given an array of integers \"nums\" and an integer \"target\", return indices of the two numbers such that they add up to target.\n",
    "\n",
    "You may assume that each input would have exactly one solution, and you may not use the same element twice.\n",
    "\n",
    "You can return the answer in any order.\n",
    "\n",
    " \n",
    "\n",
    "Example 1:\n",
    "\n",
    "Input: nums = [2,7,11,15], target = 9\n",
    "Output: [0,1]\n",
    "Explanation: Because nums[0] + nums[1] == 9, we return [0, 1].\n",
    "\n",
    "Example 2:\n",
    "\n",
    "Input: nums = [3,2,4], target = 6\n",
    "Output: [1,2]\n",
    "\n",
    "Example 3:\n",
    "\n",
    "Input: nums = [3,3], target = 6\n",
    "Output: [0,1]\n",
    " \n",
    "\n",
    "Constraints:\n",
    "Only one valid answer exists."
   ]
  },
  {
   "cell_type": "code",
   "execution_count": null,
   "id": "60254d69",
   "metadata": {},
   "outputs": [],
   "source": [
    "def twoSum(nums, target):\n",
    "    \"\"\"\n",
    "    :type nums: List[int]\n",
    "    :type target: int\n",
    "    :rtype: List[int]\n",
    "    \"\"\"\n",
    "    \"\"\" Place your code below! \"\"\"\n"
   ]
  },
  {
   "cell_type": "code",
   "execution_count": null,
   "id": "5566adbe",
   "metadata": {},
   "outputs": [
    {
     "name": "stdout",
     "output_type": "stream",
     "text": [
      "[0, 1]\n",
      "[1, 2]\n",
      "[0, 1]\n"
     ]
    },
    {
     "data": {
      "text/plain": [
       "[0, 1]"
      ]
     },
     "execution_count": 14,
     "metadata": {},
     "output_type": "execute_result"
    }
   ],
   "source": [
    "\"\"\" This code block helps test our script above! \"\"\"\n",
    "\n",
    "twoSum([2, 7, 11, 15], 9)\n",
    "twoSum([3, 2, 4], 6)\n",
    "twoSum([3, 3], 6)"
   ]
  },
  {
   "cell_type": "markdown",
   "id": "9d869557",
   "metadata": {},
   "source": [
    "### 3. Longest Common Prefix"
   ]
  },
  {
   "cell_type": "markdown",
   "id": "1bf7bb20",
   "metadata": {},
   "source": [
    "Write a function to find the longest common prefix (beginning of a word) string amongst an array of strings.\n",
    "\n",
    "If there is no common prefix, return an empty string \"\".\n",
    "\n",
    " \n",
    "\n",
    "Example 1:\n",
    "\n",
    "Input: strs = [\"flower\",\"flow\",\"flight\"]\n",
    "Output: \"fl\"\n",
    "Example 2:\n",
    "\n",
    "Input: strs = [\"dog\",\"racecar\",\"car\"]\n",
    "Output: \"\"\n",
    "Explanation: There is no common prefix among the input strings."
   ]
  },
  {
   "cell_type": "code",
   "execution_count": null,
   "id": "250b885a",
   "metadata": {},
   "outputs": [],
   "source": [
    "def longestCommonPrefix(strs):\n",
    "        \"\"\"\n",
    "        :type strs: List[str]\n",
    "        :rtype: str\n",
    "        \"\"\"\n",
    "        \"\"\" Place your code below! \"\"\""
   ]
  },
  {
   "cell_type": "code",
   "execution_count": null,
   "id": "5bc488ad",
   "metadata": {},
   "outputs": [],
   "source": [
    "\"\"\" This code block helps test our script above! \"\"\"\n",
    "\n",
    "print(longestCommonPrefix([\"flower\",\"flow\",\"flight\"]))\n",
    "print(longestCommonPrefix([\"dog\",\"racecar\",\"car\"]))\n",
    "print(longestCommonPrefix([\"interspecies\",\"interstellar\",\"interstate\"]))"
   ]
  },
  {
   "cell_type": "markdown",
   "id": "52e85758",
   "metadata": {},
   "source": [
    "### 4. Convert an Integer to Roman Numerals"
   ]
  },
  {
   "cell_type": "markdown",
   "id": "261ecd75",
   "metadata": {},
   "source": [
    "Seven different symbols represent Roman numerals with the following values:\n",
    "\n",
    "|Symbol   |\tValue   |\n",
    "|---------|---------|\n",
    "|I\t       |  1      |\n",
    "|V\t       |  5      |\n",
    "|X\t       |  10     |\n",
    "|L\t       |  50     |\n",
    "|C\t       |  100    |\n",
    "|D\t       |  500    |\n",
    "|M\t       |  1000   |\n",
    "\n",
    "Roman numerals are formed by appending the conversions of decimal place values from highest to lowest. Converting a decimal place value into a Roman numeral has the following rules:\n",
    "\n",
    "- If the value does not start with 4 or 9, select the symbol of the maximal value that can be subtracted from the input, append that symbol to the result, subtract its value, and convert the remainder to a Roman numeral.\n",
    "- If the value starts with 4 or 9 use the subtractive form representing one symbol subtracted from the following symbol, for example, 4 is 1 (I) less than 5 (V): IV and 9 is 1 (I) less than 10 (X): IX. Only the following subtractive forms are used: 4 (IV), 9 (IX), 40 (XL), 90 (XC), 400 (CD) and 900 (CM).\n",
    "- Only powers of 10 (I, X, C, M) can be appended consecutively at most 3 times to represent multiples of 10. You cannot append 5 (V), 50 (L), or 500 (D) multiple times. If you need to append a symbol 4 times use the subtractive form.\n",
    "\n",
    "Given an integer, convert it to a Roman numeral.\n",
    "\n",
    " \n",
    "Example 1:\n",
    "\n",
    "Input: num = 3749\n",
    "\n",
    "Output: \"MMMDCCXLIX\"\n",
    "\n",
    "Explanation:\n",
    "\n",
    "3000 = MMM as 1000 (M) + 1000 (M) + 1000 (M)\n",
    " 700 = DCC as 500 (D) + 100 (C) + 100 (C)\n",
    "  40 = XL as 10 (X) less of 50 (L)\n",
    "   9 = IX as 1 (I) less of 10 (X)\n",
    "\n",
    "Note: 49 is not 1 (I) less of 50 (L) because the conversion is based on decimal places\n",
    "\n",
    "Example 2:\n",
    "\n",
    "Input: num = 58\n",
    "\n",
    "Output: \"LVIII\"\n",
    "\n",
    "Explanation:\n",
    "\n",
    "50 = L\n",
    " 8 = VIII\n",
    "Example 3:\n",
    "\n",
    "Input: num = 1994\n",
    "\n",
    "Output: \"MCMXCIV\"\n",
    "\n",
    "Explanation:\n",
    "\n",
    "1000 = M\n",
    " 900 = CM\n",
    "  90 = XC\n",
    "   4 = IV\n"
   ]
  },
  {
   "cell_type": "code",
   "execution_count": null,
   "id": "d17cc57a",
   "metadata": {},
   "outputs": [],
   "source": [
    "def intToRoman(num):\n",
    "        \"\"\"\n",
    "        :type num: int\n",
    "        :rtype: str\n",
    "        \"\"\"\n",
    "        # List of Roman numeral symbols and their corresponding integer values\n",
    "        value_symbols = [\n",
    "            (1000, 'M'), (900, 'CM'), (500, 'D'), (400, 'CD'),\n",
    "            (100, 'C'), (90, 'XC'), (50, 'L'), (40, 'XL'), (10, 'X'),\n",
    "            (9, 'IX'), (5, 'V'), (4, 'IV'), (1, 'I')\n",
    "        ]\n",
    "\n",
    "        \"\"\" Place your code below! \"\"\"\n",
    "        "
   ]
  },
  {
   "cell_type": "code",
   "execution_count": null,
   "id": "77fae7de",
   "metadata": {},
   "outputs": [
    {
     "name": "stdout",
     "output_type": "stream",
     "text": [
      "III\n",
      "CCCXCIV\n",
      "MCMXCIV\n"
     ]
    }
   ],
   "source": [
    "\"\"\" This code block helps test our script above! \"\"\"\n",
    "\n",
    "roman_1 = intToRoman(3)\n",
    "roman_2 = intToRoman(394)\n",
    "roman_3 = intToRoman(1994)\n",
    "print(roman_1)\n",
    "print(roman_2)\n",
    "print(roman_3)"
   ]
  },
  {
   "cell_type": "markdown",
   "id": "bf4a4109",
   "metadata": {},
   "source": [
    "### 5. Length of Longest Substring"
   ]
  },
  {
   "cell_type": "markdown",
   "id": "eb7460aa",
   "metadata": {},
   "source": [
    "Given a string s, find the length of the longest substring without duplicate characters.\n",
    "\n",
    " \n",
    "\n",
    "Example 1:\n",
    "\n",
    "Input: s = \"abcabcbb\"\n",
    "Output: 3\n",
    "Explanation: The answer is \"abc\", with the length of 3.\n",
    "Example 2:\n",
    "\n",
    "Input: s = \"bbbbb\"\n",
    "Output: 1\n",
    "Explanation: The answer is \"b\", with the length of 1."
   ]
  },
  {
   "cell_type": "code",
   "execution_count": null,
   "id": "bff5c78d",
   "metadata": {},
   "outputs": [],
   "source": [
    "def lengthOfLongestSubstring(s: str) -> int:\n",
    "    \"\"\" Place your code below! \"\"\"\n"
   ]
  },
  {
   "cell_type": "code",
   "execution_count": null,
   "id": "7eaa37ea",
   "metadata": {},
   "outputs": [],
   "source": [
    "\"\"\" This code block helps test our script above! \"\"\"\n",
    "\n",
    "print(lengthOfLongestSubstring(\"abcabcbb\"))\n",
    "print(lengthOfLongestSubstring(\"bbbbb\"))\n",
    "print(lengthOfLongestSubstring(\"pwwkew\"))"
   ]
  },
  {
   "cell_type": "markdown",
   "id": "3b051be6",
   "metadata": {},
   "source": [
    "### Tic Tac Toe"
   ]
  },
  {
   "cell_type": "markdown",
   "id": "cbaff47e",
   "metadata": {},
   "source": [
    "Let's make a tic tac toe game using Tkinter! \n",
    "\n",
    "A couple things to remember:\n",
    "- Make sure to import the \"tkinter\" module"
   ]
  },
  {
   "cell_type": "code",
   "execution_count": null,
   "id": "0f42032e",
   "metadata": {},
   "outputs": [],
   "source": [
    "import tkinter as tk\n",
    "from tkinter import font\n",
    "from itertools import cycle\n",
    "from typing import NamedTuple\n",
    "\n",
    "class Player(NamedTuple):\n",
    "    label: str\n",
    "    color: str\n",
    "\n",
    "class Move(NamedTuple):\n",
    "    row: int\n",
    "    col: int\n",
    "    label: str = \"\"\n",
    "\n",
    "BOARD_SIZE = 3\n",
    "DEFAULT_PLAYERS = (\n",
    "    Player(label=\"X\", color=\"blue\"),\n",
    "    Player(label=\"O\", color=\"green\"),\n",
    ")\n",
    "\n",
    "class TicTacToeGame:\n",
    "    def __init__(self, players=DEFAULT_PLAYERS, board_size=BOARD_SIZE):\n",
    "        self._players = cycle(players)\n",
    "        self.board_size = board_size\n",
    "        self.current_player = next(self._players)\n",
    "        self.winner_combo = []\n",
    "        self._current_moves = []\n",
    "        self._has_winner = False\n",
    "        self._winning_combos = []\n",
    "        self._setup_board()\n",
    "    \n",
    "    def _setup_board(self):\n",
    "        self._current_moves = [\n",
    "            [Move(row, col) for col in range(self.board_size)]\n",
    "            for row in range(self.board_size)\n",
    "        ]\n",
    "        self._winning_combos = self._get_winning_combos()\n",
    "\n",
    "    def _get_winning_combos(self):\n",
    "        rows = [\n",
    "            [(move.row, move.col) for move in row]\n",
    "            for row in self._current_moves\n",
    "        ]\n",
    "        columns = [list(col) for col in zip(*rows)]\n",
    "        first_diagonal = [row[i] for i, row in enumerate(rows)]\n",
    "        second_diagonal = [col[j] for j, col in enumerate(reversed(columns))]\n",
    "        return rows + columns + [first_diagonal, second_diagonal]\n",
    "\n",
    "    def is_valid_move(self, move):\n",
    "        \"\"\"Return True if move is valid, and False otherwise.\"\"\"\n",
    "        row, col = move.row, move.col\n",
    "        move_was_not_played = self._current_moves[row][col].label == \"\"\n",
    "        no_winner = not self._has_winner\n",
    "        return no_winner and move_was_not_played\n",
    "\n",
    "    def process_move(self, move):\n",
    "        \"\"\"Process the current move and check if it's a win.\"\"\"\n",
    "        row, col = move.row, move.col\n",
    "        self._current_moves[row][col] = move\n",
    "        for combo in self._winning_combos:\n",
    "            results = set(\n",
    "                self._current_moves[n][m].label\n",
    "                for n, m in combo\n",
    "            )\n",
    "            is_win = (len(results) == 1) and (\"\" not in results)\n",
    "            if is_win:\n",
    "                self._has_winner = True\n",
    "                self.winner_combo = combo\n",
    "                break\n",
    "        \n",
    "    def has_winner(self):\n",
    "        \"\"\"Return True if the game has a winner, and False otherwise.\"\"\"\n",
    "        return self._has_winner\n",
    "\n",
    "    def is_tied(self):\n",
    "        \"\"\"Return True if the game is tied, and False otherwise.\"\"\"\n",
    "        no_winner = not self._has_winner\n",
    "        played_moves = (\n",
    "            move.label for row in self._current_moves for move in row\n",
    "        )\n",
    "        return no_winner and all(played_moves)\n",
    "\n",
    "    def toggle_player(self):\n",
    "        \"\"\"Return a toggled player.\"\"\"\n",
    "        self.current_player = next(self._players)\n",
    "\n",
    "    def reset_game(self):\n",
    "        \"\"\"Reset the game state to play again.\"\"\"\n",
    "        for row, row_content in enumerate(self._current_moves):\n",
    "            for col, _ in enumerate(row_content):\n",
    "                row_content[col] = Move(row, col)\n",
    "        self._has_winner = False\n",
    "        self.winner_combo = []\n",
    "\n",
    "        \n",
    "\n",
    "class TicTacToeBoard(tk.Tk):\n",
    "    def __init__(self, game):\n",
    "        super().__init__()\n",
    "        self.title(\"Tic-Tac-Toe Game\")\n",
    "        self._cells = {}\n",
    "        self._game = game\n",
    "        self._create_board_display()\n",
    "        self._create_board_grid()\n",
    "        self._create_menu()\n",
    "\n",
    "    def _create_board_display(self):\n",
    "        display_frame = tk.Frame(master=self)\n",
    "        display_frame.pack(fill=tk.X)\n",
    "        self.display = tk.Label(\n",
    "            master=display_frame,\n",
    "            text=\"Ready?\",\n",
    "            font=font.Font(size=28, weight=\"bold\"),\n",
    "        )\n",
    "        self.display.pack()\n",
    "\n",
    "    def _create_board_grid(self):\n",
    "        grid_frame = tk.Frame(master=self)\n",
    "        grid_frame.pack()\n",
    "        for row in range(self._game.board_size):\n",
    "            self.rowconfigure(row, weight=1, minsize=50)\n",
    "            self.columnconfigure(row, weight=1, minsize=75)\n",
    "            for col in range(self._game.board_size):\n",
    "                button = tk.Button(\n",
    "                    master=grid_frame,\n",
    "                    text=\"\",\n",
    "                    font=font.Font(size=36, weight=\"bold\"),\n",
    "                    fg=\"black\",\n",
    "                    width=3,\n",
    "                    height=2,\n",
    "                    highlightbackground=\"lightblue\",\n",
    "                )\n",
    "                self._cells[button] = (row, col)\n",
    "                button.bind(\"<ButtonPress-1>\", self.play)\n",
    "                button.grid(\n",
    "                    row=row,\n",
    "                    column=col,\n",
    "                    padx=5,\n",
    "                    pady=5,\n",
    "                    sticky=\"nsew\"\n",
    "                )\n",
    "\n",
    "    def play(self, event):\n",
    "        \"\"\"Handle a player's move.\"\"\"\n",
    "        clicked_btn = event.widget\n",
    "        row, col = self._cells[clicked_btn]\n",
    "        move = Move(row, col, self._game.current_player.label)\n",
    "        if self._game.is_valid_move(move):\n",
    "            self._update_button(clicked_btn)\n",
    "            self._game.process_move(move)\n",
    "            if self._game.is_tied():\n",
    "                self._update_display(msg=\"Tied game!\", color=\"red\")\n",
    "            elif self._game.has_winner():\n",
    "                self._highlight_cells()\n",
    "                msg = f'Player \"{self._game.current_player.label}\" won!'\n",
    "                color = self._game.current_player.color\n",
    "                self._update_display(msg, color)\n",
    "            else:\n",
    "                self._game.toggle_player()\n",
    "                msg = f\"{self._game.current_player.label}'s turn\"\n",
    "                self._update_display(msg)\n",
    "\n",
    "    def _update_button(self, clicked_btn):\n",
    "        clicked_btn.config(text=self._game.current_player.label)\n",
    "        clicked_btn.config(fg=self._game.current_player.color)\n",
    "\n",
    "    def _update_display(self, msg, color=\"black\"):\n",
    "        self.display[\"text\"] = msg\n",
    "        self.display[\"fg\"] = color\n",
    "\n",
    "    def _highlight_cells(self):\n",
    "        for button, coordinates in self._cells.items():\n",
    "            if coordinates in self._game.winner_combo:\n",
    "                button.config(highlightbackground=\"red\")\n",
    "\n",
    "    def _create_menu(self):\n",
    "        menu_bar = tk.Menu(master=self)\n",
    "        self.config(menu=menu_bar)\n",
    "        file_menu = tk.Menu(master=menu_bar)\n",
    "        file_menu.add_command(\n",
    "            label=\"Play Again\",\n",
    "            command=self.reset_board\n",
    "        )\n",
    "        file_menu.add_separator()\n",
    "        file_menu.add_command(label=\"Exit\", command=quit)\n",
    "        menu_bar.add_cascade(label=\"File\", menu=file_menu)\n",
    "\n",
    "    def reset_board(self):\n",
    "        \"\"\"Reset the game's board to play again.\"\"\"\n",
    "        self._game.reset_game()\n",
    "        self._update_display(msg=\"Ready?\")\n",
    "        for button in self._cells.keys():\n",
    "            button.config(highlightbackground=\"lightblue\")\n",
    "            button.config(text=\"\")\n",
    "            button.config(fg=\"black\")"
   ]
  },
  {
   "cell_type": "code",
   "execution_count": null,
   "id": "767a724e",
   "metadata": {},
   "outputs": [
    {
     "name": "stderr",
     "output_type": "stream",
     "text": [
      "2025-09-02 13:19:43.346 Python[43976:9957098] +[IMKClient subclass]: chose IMKClient_Legacy\n",
      "2025-09-02 13:19:43.346 Python[43976:9957098] +[IMKInputSession subclass]: chose IMKInputSession_Legacy\n"
     ]
    }
   ],
   "source": [
    "def main():\n",
    "    \"\"\"Create the game's board and run its main loop.\"\"\"\n",
    "    game = TicTacToeGame()\n",
    "    board = TicTacToeBoard(game)\n",
    "    board.mainloop()\n",
    "\n",
    "if __name__ == \"__main__\":\n",
    "    main()"
   ]
  }
 ],
 "metadata": {
  "kernelspec": {
   "display_name": "Python 3",
   "language": "python",
   "name": "python3"
  },
  "language_info": {
   "codemirror_mode": {
    "name": "ipython",
    "version": 3
   },
   "file_extension": ".py",
   "mimetype": "text/x-python",
   "name": "python",
   "nbconvert_exporter": "python",
   "pygments_lexer": "ipython3",
   "version": "3.12.8"
  }
 },
 "nbformat": 4,
 "nbformat_minor": 5
}
